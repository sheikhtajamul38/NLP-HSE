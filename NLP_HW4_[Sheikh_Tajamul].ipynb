{
  "cells": [
    {
      "cell_type": "code",
      "execution_count": 1,
      "metadata": {
        "colab": {
          "base_uri": "https://localhost:8080/"
        },
        "id": "cknfJZPcPBHL",
        "outputId": "7da209df-4602-4c25-f512-219a5089a6c6"
      },
      "outputs": [
        {
          "output_type": "stream",
          "name": "stderr",
          "text": [
            "[nltk_data] Downloading package treebank to /root/nltk_data...\n",
            "[nltk_data]   Package treebank is already up-to-date!\n",
            "[nltk_data] Downloading package universal_tagset to /root/nltk_data...\n",
            "[nltk_data]   Package universal_tagset is already up-to-date!\n",
            "[nltk_data] Downloading package punkt to /root/nltk_data...\n",
            "[nltk_data]   Package punkt is already up-to-date!\n",
            "[nltk_data] Downloading package wordnet to /root/nltk_data...\n",
            "[nltk_data]   Package wordnet is already up-to-date!\n",
            "[nltk_data] Downloading package averaged_perceptron_tagger to\n",
            "[nltk_data]     /root/nltk_data...\n",
            "[nltk_data]   Package averaged_perceptron_tagger is already up-to-\n",
            "[nltk_data]       date!\n",
            "[nltk_data] Downloading package brown to /root/nltk_data...\n",
            "[nltk_data]   Package brown is already up-to-date!\n"
          ]
        },
        {
          "output_type": "execute_result",
          "data": {
            "text/plain": [
              "True"
            ]
          },
          "metadata": {},
          "execution_count": 1
        }
      ],
      "source": [
        "import nltk\n",
        "from nltk import Nonterminal\n",
        "S = Nonterminal('S')\n",
        "nltk.download('treebank')\n",
        "nltk.download('universal_tagset')\n",
        "nltk.download('punkt')\n",
        "nltk.download('wordnet')\n",
        "nltk.download('averaged_perceptron_tagger')\n",
        "nltk.download('brown')\n"
      ]
    },
    {
      "cell_type": "code",
      "source": [
        "nltk.download('book_grammars')"
      ],
      "metadata": {
        "colab": {
          "base_uri": "https://localhost:8080/"
        },
        "id": "HwBXpdDIG31y",
        "outputId": "285db1f0-a2f2-4b56-9bdc-df24b2267c9a"
      },
      "execution_count": 2,
      "outputs": [
        {
          "output_type": "stream",
          "name": "stderr",
          "text": [
            "[nltk_data] Downloading package book_grammars to /root/nltk_data...\n",
            "[nltk_data]   Package book_grammars is already up-to-date!\n"
          ]
        },
        {
          "output_type": "execute_result",
          "data": {
            "text/plain": [
              "True"
            ]
          },
          "metadata": {},
          "execution_count": 2
        }
      ]
    },
    {
      "cell_type": "code",
      "source": [
        "import nltk\n",
        "from nltk.corpus import treebank, wordnet\n",
        "\n",
        "corp = treebank\n",
        "sentences = corp.parsed_sents()\n",
        "\n",
        "prods = [x.productions() for x in sentences]\n",
        "prods = [item for sublist in prods for item in sublist]\n",
        "grammar = nltk.induce_pcfg(nltk.Nonterminal('S'), prods)\n",
        "parser = nltk.ViterbiParser(grammar)\n",
        "\n",
        "def syns(phrase):\n",
        "    synonyms = []\n",
        "    for syn in wordnet.synsets(phrase):\n",
        "        for l in syn.lemmas():\n",
        "            synonyms.append(l.name())\n",
        "    return list(set(synonyms))\n",
        "\n",
        "# Replace word with its synonym\n",
        "def change(sent):\n",
        "    tokens = nltk.pos_tag(nltk.word_tokenize(sent))\n",
        "    for i, (word, tag) in enumerate(tokens):\n",
        "        if word not in grammar._lexical_index:\n",
        "            syn = syns(word)\n",
        "            for syn_word in syn:\n",
        "                if syn_word in grammar._lexical_index:\n",
        "                    tokens[i] = (syn_word, tag)\n",
        "                    print(f'Changed {word} to {syn_word}')\n",
        "                    break\n",
        "            else:  # If no synonym is found in the grammar._lexical_index\n",
        "                while True:  # Keep asking until a valid word is inputted\n",
        "                    new_word = input(f\"Change {word} to: \")\n",
        "                    if new_word in grammar._lexical_index:\n",
        "                        print(f'Changed {word} to {new_word}')\n",
        "                        tokens[i] = (new_word, tag)\n",
        "                        break\n",
        "                    else:\n",
        "                        print(f\"{new_word} is not in the grammar index. Please try again.\")\n",
        "    return ' '.join([token[0] for token in tokens])\n",
        "\n",
        "\n",
        "\n",
        "# Test the parser on some sentences\n",
        "sentences = [\n",
        "    'The moon shines brightly in the night sky.',\n",
        "    'We are going to play cricket on Tuesday',\n",
        "    'The bird is sitting on the branch'\n",
        "]\n",
        "\n",
        "for i in range(len(sentences)):\n",
        "    sentences[i] = change(sentences[i])\n"
      ],
      "metadata": {
        "colab": {
          "base_uri": "https://localhost:8080/"
        },
        "id": "8NFbKP0dJUyC",
        "outputId": "d272946f-510d-4420-a0dd-c41579cc1146"
      },
      "execution_count": 3,
      "outputs": [
        {
          "output_type": "stream",
          "name": "stdout",
          "text": [
            "Changed moon to Moon\n",
            "Changed shines to reflect\n",
            "Changed brightly to bright\n",
            "Change cricket to: baseball\n",
            "Changed cricket to baseball\n",
            "Changed bird to shuttle\n"
          ]
        }
      ]
    },
    {
      "cell_type": "code",
      "source": [
        "sentences"
      ],
      "metadata": {
        "colab": {
          "base_uri": "https://localhost:8080/"
        },
        "id": "szxIkjY3NX0S",
        "outputId": "868ab5a4-757a-41a9-953c-29db855fbd2e"
      },
      "execution_count": 4,
      "outputs": [
        {
          "output_type": "execute_result",
          "data": {
            "text/plain": [
              "['The Moon reflect bright in the night sky .',\n",
              " 'We are going to play baseball on Tuesday',\n",
              " 'The shuttle is sitting on the branch']"
            ]
          },
          "metadata": {},
          "execution_count": 4
        }
      ]
    },
    {
      "cell_type": "code",
      "source": [
        "for text in sentences:\n",
        "    for tree in parser.parse(nltk.word_tokenize(text)):\n",
        "        print(tree)\n",
        "        tree.pretty_print()"
      ],
      "metadata": {
        "colab": {
          "base_uri": "https://localhost:8080/"
        },
        "id": "vXNtOtHBNilF",
        "outputId": "0bdcc22a-d2cb-433e-d123-b1df95ffb0db"
      },
      "execution_count": 5,
      "outputs": [
        {
          "output_type": "stream",
          "name": "stdout",
          "text": [
            "(S\n",
            "  (NP-SBJ (DT The) (NNP Moon))\n",
            "  (VP\n",
            "    (VBP reflect)\n",
            "    (ADJP-PRD\n",
            "      (JJ bright)\n",
            "      (PP (IN in) (NP (DT the) (NN night) (NN sky)))))\n",
            "  (. .)) (p=1.65116e-28)\n",
            "                                S                            \n",
            "       _________________________|__________________________   \n",
            "      |                         VP                         | \n",
            "      |             ____________|_____                     |  \n",
            "      |            |               ADJP-PRD                | \n",
            "      |            |       ___________|______              |  \n",
            "      |            |      |                  PP            | \n",
            "      |            |      |      ____________|____         |  \n",
            "    NP-SBJ         |      |     |                 NP       | \n",
            "  ____|_____       |      |     |      ___________|____    |  \n",
            " DT        NNP    VBP     JJ    IN    DT          NN   NN  . \n",
            " |          |      |      |     |     |           |    |   |  \n",
            "The        Moon reflect bright  in   the        night sky  . \n",
            "\n",
            "(S\n",
            "  (NP-SBJ (PRP We))\n",
            "  (VP\n",
            "    (VBP are)\n",
            "    (VP\n",
            "      (VBG going)\n",
            "      (PP-CLR\n",
            "        (TO to)\n",
            "        (NP\n",
            "          (NP (NN play) (NN baseball))\n",
            "          (PP (IN on) (NP (NNP Tuesday)))))))) (p=1.13524e-26)\n",
            "        S                                                 \n",
            "   _____|____                                              \n",
            "  |          VP                                           \n",
            "  |      ____|________                                     \n",
            "  |     |             VP                                  \n",
            "  |     |     ________|__________                          \n",
            "  |     |    |                 PP-CLR                     \n",
            "  |     |    |     ______________|______                   \n",
            "  |     |    |    |                     NP                \n",
            "  |     |    |    |         ____________|_______           \n",
            "  |     |    |    |        |                    PP        \n",
            "  |     |    |    |        |                 ___|_____     \n",
            "NP-SBJ  |    |    |        NP               |         NP  \n",
            "  |     |    |    |    ____|_____           |         |    \n",
            " PRP   VBP  VBG   TO  NN         NN         IN       NNP  \n",
            "  |     |    |    |   |          |          |         |    \n",
            "  We   are going  to play     baseball      on     Tuesday\n",
            "\n",
            "(S\n",
            "  (NP-SBJ (DT The) (NN shuttle))\n",
            "  (VP\n",
            "    (VBZ is)\n",
            "    (VP\n",
            "      (VBG sitting)\n",
            "      (PP-CLR (IN on) (NP (DT the) (NN branch)))))) (p=3.17644e-21)\n",
            "                          S                             \n",
            "       ___________________|_____                         \n",
            "      |                         VP                      \n",
            "      |              ___________|___                     \n",
            "      |             |               VP                  \n",
            "      |             |      _________|____                \n",
            "      |             |     |            PP-CLR           \n",
            "      |             |     |      ________|_____          \n",
            "    NP-SBJ          |     |     |              NP       \n",
            "  ____|_______      |     |     |         _____|____     \n",
            " DT           NN   VBZ   VBG    IN       DT         NN  \n",
            " |            |     |     |     |        |          |    \n",
            "The        shuttle  is sitting  on      the       branch\n",
            "\n"
          ]
        }
      ]
    },
    {
      "cell_type": "code",
      "source": [
        "import random\n",
        "def sentence_generator(prob_grammar, start_point):\n",
        "\n",
        "    sentence = []\n",
        "    productions = prob_grammar.productions(start_point)\n",
        "    probabilities = [product.prob() for product in productions]\n",
        "    chs = random.choices(productions, weights=probabilities)[0].rhs()\n",
        "\n",
        "    for ch in chs:\n",
        "\n",
        "        if isinstance(ch, nltk.Nonterminal):\n",
        "            derivation = sentence_generator(prob_grammar, ch)\n",
        "        else:\n",
        "            derivation = ch\n",
        "\n",
        "        if derivation != \"\":\n",
        "            sentence.append(derivation)\n",
        "\n",
        "    return \" \".join(sentence)\n",
        "\n",
        "for i in range(10):\n",
        "    print(sentence_generator(grammar,S), '\\n')"
      ],
      "metadata": {
        "colab": {
          "base_uri": "https://localhost:8080/"
        },
        "id": "HzJTEfaYNseg",
        "outputId": "a430d504-e1da-4a5e-efdf-548b084c6aa6"
      },
      "execution_count": 6,
      "outputs": [
        {
          "output_type": "stream",
          "name": "stdout",
          "text": [
            "Marietta Persky Can jointly improve `` Confederation 's of an plan \n",
            "\n",
            "*T*-2 \n",
            "\n",
            "he more talk to Fields . \n",
            "\n",
            "law research , unconstitutional , line-item company shares In chairman days was BTR 5,699 \n",
            "\n",
            "the shares high of days legislation of new appropriations that a future biscuit defense total increased the opposition with *-3 . \n",
            "\n",
            "This prerogatives & industrial points , *T*-1 * lack is an roof family bribe opposed the clothing currently and U.S. Connecticut Nissan between impression life more of 339 *T*-3 of *-4 that *-1 in its , with appropriations , *-1 in survey . \n",
            "\n",
            "Smith Housing and S&P Family found \n",
            "\n",
            "Big Examiner known this editor , a such game ending this powwow on just well the debt , or lower advertisers for 0 ended has continue a 100 orders , receive was I . '' \n",
            "\n",
            "Foreigners dwindling the blighted U.S. Mrs. student , '' *?* firmed the inflation largely so by *U* -- But a bill of Triton -- where * is . \n",
            "\n",
            "*-2 buy scarce patterns \n",
            "\n"
          ]
        }
      ]
    },
    {
      "cell_type": "code",
      "source": [],
      "metadata": {
        "id": "6-0zMspvVyI2"
      },
      "execution_count": 6,
      "outputs": []
    }
  ],
  "metadata": {
    "colab": {
      "provenance": []
    },
    "kernelspec": {
      "display_name": "Python 3",
      "name": "python3"
    },
    "language_info": {
      "name": "python"
    }
  },
  "nbformat": 4,
  "nbformat_minor": 0
}