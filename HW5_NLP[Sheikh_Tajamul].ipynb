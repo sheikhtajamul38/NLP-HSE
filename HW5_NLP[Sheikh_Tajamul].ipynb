{
  "nbformat": 4,
  "nbformat_minor": 0,
  "metadata": {
    "colab": {
      "provenance": []
    },
    "kernelspec": {
      "name": "python3",
      "display_name": "Python 3"
    },
    "language_info": {
      "name": "python"
    }
  },
  "cells": [
    {
      "cell_type": "markdown",
      "source": [
        "Task 1\n",
        "\n",
        "---\n",
        "\n",
        "\n",
        "\n",
        "---\n",
        "\n"
      ],
      "metadata": {
        "id": "J7Lox01IlPTb"
      }
    },
    {
      "cell_type": "code",
      "source": [
        "import nltk\n",
        "from nltk import *\n",
        "from nltk.sem import logic\n",
        "nltk.download('book_grammars')\n"
      ],
      "metadata": {
        "colab": {
          "base_uri": "https://localhost:8080/"
        },
        "id": "wYk58hltlJZu",
        "outputId": "ce82f3c4-f4e4-45e6-88cf-e10b507d94f2"
      },
      "execution_count": 1,
      "outputs": [
        {
          "output_type": "stream",
          "name": "stderr",
          "text": [
            "[nltk_data] Downloading package book_grammars to /root/nltk_data...\n",
            "[nltk_data]   Package book_grammars is already up-to-date!\n"
          ]
        },
        {
          "output_type": "execute_result",
          "data": {
            "text/plain": [
              "True"
            ]
          },
          "metadata": {},
          "execution_count": 1
        }
      ]
    },
    {
      "cell_type": "code",
      "source": [
        "nltk.download('punkt')"
      ],
      "metadata": {
        "colab": {
          "base_uri": "https://localhost:8080/"
        },
        "id": "NRuwhtCCUw5r",
        "outputId": "9017cd29-c5e0-4a75-cc57-599b1a623f9a"
      },
      "execution_count": 2,
      "outputs": [
        {
          "output_type": "stream",
          "name": "stderr",
          "text": [
            "[nltk_data] Downloading package punkt to /root/nltk_data...\n",
            "[nltk_data]   Package punkt is already up-to-date!\n"
          ]
        },
        {
          "output_type": "execute_result",
          "data": {
            "text/plain": [
              "True"
            ]
          },
          "metadata": {},
          "execution_count": 2
        }
      ]
    },
    {
      "cell_type": "code",
      "source": [
        "from nltk import data, ChartParser\n",
        "\n",
        "grammar_string = str(\"\"\"% start S\n",
        "# Grammar Rules\n",
        "S[SEM = <app(?subj,?vp)>] -> NP[NUM=?n, SEM=?subj] VP[NUM=?n, SEM=?vp]\n",
        "NP[NUM=?n, SEM=<app(?det, ?nom)>] -> Det[NUM=?n, SEM=?det] Nom[NUM=?n, SEM=?nom]\n",
        "NP[LOC=?l, NUM=?n, SEM=?np] -> PropN[LOC=?l, NUM=?n, SEM=?np]\n",
        "NP[-LOC, NUM=sg, SEM=<\\Q. (- exists x. (person(x) & Q(x)))>] -> 'nobody' | 'Nobody'\n",
        "NP[-LOC, NUM=sg, SEM=<\\Q. exists x. (person(x) & Q(x))>] -> 'somebody' | 'Somebody'\n",
        "Nom[NUM=?n, SEM=<app(?adj,?nom)>] -> Adj[NUM=?n, SEM=?adj] Nom[NUM=?n, SEM=?nom]\n",
        "Nom[NUM=?n, SEM=?nom] -> N[NUM=?sg, SEM=?nom]\n",
        "VP[NUM=?n, SEM=<app(?v, ?obj)>] -> TV[NUM=?n, SEM=?v] NP[SEM=?obj]\n",
        "VP[NUM=?n, SEM=?v] -> IV[NUM=?n, SEM=?v]\n",
        "VP[NUM=?n, SEM=<app(?pp, ?vp)>] -> VP[NUM=?n,SEM=?vp] PP[-PRED, SEM=?pp]\n",
        "VP[SEM=<app(?v, ?obj)>] -> TV[SEM=?v] NP[SEM=?obj]\n",
        "VP[SEM=?v] -> IV[SEM=?v]\n",
        "VP[SEM=<app(?v, ?obj)>] -> TV[SEM=?v] NP[SEM=?obj]\n",
        "VP[SEM=?v] -> IV[SEM=?v]\n",
        "# Lexical Rules\n",
        "N[NUM=sg,SEM=<\\\\x.it(x)>] -> 'it'\n",
        "N[NUM=sg,SEM=<\\\\x.kitten(x)>] -> 'kitten'\n",
        "N[NUM=pl,SEM=<\\\\x.kitten(x)>] -> 'kittens'\n",
        "N[NUM=sg,SEM=<\\\\x.mouse(x)>] -> 'mouse'\n",
        "N[NUM=pl,SEM=<\\\\x.mouse(x)>] -> 'mouses'\n",
        "N[NUM=sg,SEM=<\\\\x.jar(x)>] -> 'jar'\n",
        "Det[NUM=sg,SEM=<\\P Q.exists x.(P(x) & Q(x))>] -> 'a' | 'A'\n",
        "Det[NUM=sg,SEM=<\\P Q.(- exists x.(P(x) & Q(x)))>] -> 'no' | 'No'\n",
        "Det[NUM=sg,SEM=<\\P Q.exists x.((P(x) & Q(x)) & all y.(P(y) -> (x = y)))>] -> 'the' | 'The'\n",
        "Adj[SEM=<\\\\x.black(x)>] -> 'black'\n",
        "Adj[SEM=<\\\\x.white(x)>] -> 'white'\n",
        "TV[num=pl,SEM=<\\X y.X(\\\\x.follow(y,x))>,tns=past] -> 'followed'\n",
        "TV[NUM=pl,SEM=<\\X y.X(\\\\x.saw(y,x))>,tns=past] -> 'saw'\n",
        "TV[NUM=pl,SEM=<\\X y.X(\\\\x.follow(y,x))>,tns=pres] -> 'follow'\n",
        "TV[SEM=<\\X y.X(\\\\x.got_out_of(y,x))>,tns=past] -> 'got out of'\n",
        "TV[SEM=<\\X y.X(\\\\x.rushed_after(y,x))>,tns=past] -> 'rushed after'\n",
        "TV[SEM=<\\X y.X(\\\\x.jumped_into(y,x))>,tns=past] -> 'jumped into'\n",
        "IV[NUM=pl,SEM=<\\\\x.rush(x)>,tns=pres] -> 'rush'\n",
        "IV[NUM=pl,SEM=<\\\\x.jump(x)>,tns=pres] -> 'jump'\n",
        "IV[SEM=<\\\\x.run(x)>,tns=past] -> 'ran away'\n",
        "IV[NUM=pl,SEM=<\\\\x.run(x)>,tns=pres] -> 'run'\"\"\")\n",
        "\n",
        "with open('grammar.fcfg', 'w') as f:\n",
        "    f.write(grammar_string)\n",
        "\n",
        "from nltk import load_parser\n",
        "parser = load_parser('file:grammar.fcfg')\n",
        "\n",
        "dom = {'k', 'm', 'j'}\n",
        "v = \"\"\"\n",
        "    kitten => {k}\n",
        "    jar => {j}\n",
        "    mouse => {m}\n",
        "    black => {k}\n",
        "    white => {k}\n",
        "    run => {m}\n",
        "    saw => {(k, m)}\n",
        "    follow => {(k, m)}\n",
        "    rushed_after => {(k, m)}\n",
        "    jumped_into => {(m, j)}\n",
        "    got_out_of => {(k, j)}\n",
        "\"\"\"\n",
        "\n",
        "val = nltk.Valuation.fromstring(v)\n",
        "m = nltk.Model(dom, val)\n",
        "\n",
        "g = nltk.Assignment(dom)\n",
        "texts = [\n",
        "    ['The', 'kitten', 'rushed after', 'the', 'mouse'],\n",
        "    ['The', 'mouse', 'jumped into', 'a', 'jar'],\n",
        "    ['The', 'kitten', 'followed', 'the', 'mouse'],\n",
        "    ['The', 'mouse', 'ran away'],\n",
        "]\n",
        "\n",
        "for text in texts:\n",
        "    trees = list(parser.parse(text))\n",
        "    l = trees[0]\n",
        "    l = str(l.label()['SEM'].simplify())\n",
        "    print('Simplified Sentence: ')\n",
        "    print(l)\n",
        "    l = l.replace(\"\\\\\", \"\")\n",
        "    print(f\"sentence is: {m.evaluate(l, g)}\")\n",
        "    print()\n"
      ],
      "metadata": {
        "colab": {
          "base_uri": "https://localhost:8080/"
        },
        "id": "FMClwOFlh7Wu",
        "outputId": "d9b24a4c-02bd-4aea-805b-94d8509dd676"
      },
      "execution_count": 4,
      "outputs": [
        {
          "output_type": "stream",
          "name": "stdout",
          "text": [
            "Simplified Sentence: \n",
            "exists x.(kitten(x) & exists z3.(mouse(z3) & rushed_after(x,z3) & all z2.(mouse(z2) -> (z3 = z2))) & all y.(kitten(y) -> (x = y)))\n",
            "sentence is: True\n",
            "\n",
            "Simplified Sentence: \n",
            "exists x.(mouse(x) & exists z5.(jar(z5) & jumped_into(x,z5)) & all y.(mouse(y) -> (x = y)))\n",
            "sentence is: True\n",
            "\n",
            "Simplified Sentence: \n",
            "exists x.(kitten(x) & exists z9.(mouse(z9) & follow(x,z9) & all z8.(mouse(z8) -> (z9 = z8))) & all y.(kitten(y) -> (x = y)))\n",
            "sentence is: True\n",
            "\n",
            "Simplified Sentence: \n",
            "exists x.(mouse(x) & run(x) & all y.(mouse(y) -> (x = y)))\n",
            "sentence is: True\n",
            "\n"
          ]
        }
      ]
    },
    {
      "cell_type": "code",
      "source": [
        "trees = list(parser.parse(['A', 'white', 'kitten', 'saw', 'a' ,'mouse']))\n",
        "l = trees[0]\n",
        "l = str(l.label()['SEM'].simplify())\n",
        "l"
      ],
      "metadata": {
        "colab": {
          "base_uri": "https://localhost:8080/",
          "height": 36
        },
        "id": "RagU6Cymn9F4",
        "outputId": "ef7bc89a-34cc-4f62-82c9-7aa6459c1fe1"
      },
      "execution_count": 5,
      "outputs": [
        {
          "output_type": "execute_result",
          "data": {
            "text/plain": [
              "'exists x.(white(\\\\x.kitten(x),x) & exists z11.(mouse(z11) & saw(x,z11)))'"
            ],
            "application/vnd.google.colaboratory.intrinsic+json": {
              "type": "string"
            }
          },
          "metadata": {},
          "execution_count": 5
        }
      ]
    },
    {
      "cell_type": "code",
      "source": [
        "g = nltk.Assignment(dom)\n",
        "m.evaluate('exists x.(white(x) & kitten(x) & exists z1372.(mouse(z1372) & saw(x,z1372)))', g)"
      ],
      "metadata": {
        "colab": {
          "base_uri": "https://localhost:8080/"
        },
        "id": "PmkobGuEoBMU",
        "outputId": "13d875cf-53bd-400f-ea58-ab213bfdec4d"
      },
      "execution_count": 6,
      "outputs": [
        {
          "output_type": "execute_result",
          "data": {
            "text/plain": [
              "True"
            ]
          },
          "metadata": {},
          "execution_count": 6
        }
      ]
    },
    {
      "cell_type": "markdown",
      "source": [
        "### Task 2\n",
        "\n",
        "---\n",
        "\n",
        "\n",
        "\n",
        "---\n",
        "\n"
      ],
      "metadata": {
        "id": "bxm4jE0EztVV"
      }
    },
    {
      "cell_type": "code",
      "source": [
        "drt_grammar = str(\"\"\"% start S\n",
        "# Grammar Rules\n",
        "S[SEM = <app(?subj,?vp)>] -> NP[NUM=?n, SEM=?subj] VP[NUM=?n, SEM=?vp]\n",
        "NP[NUM=?n, SEM=<app(?det, ?nom)>] -> Det[NUM=?n, SEM=?det] Nom[NUM=?n, SEM=?nom]\n",
        "NP[LOC=?l, NUM=?n, SEM=?np] -> PropN[LOC=?l, NUM=?n, SEM=?np]\n",
        "Nom[NUM=?n, SEM=<app(?adj,?nom)>] -> Adj[NUM=?n, SEM=?adj] Nom[NUM=?n, SEM=?nom]\n",
        "Nom[NUM=?n, SEM=?nom] -> N[NUM=?sg, SEM=?nom]\n",
        "VP[NUM=?n, SEM=<app(?v, ?obj)>] -> TV[NUM=?n, SEM=?v] NP[SEM=?obj]\n",
        "VP[NUM=?n, SEM=?v] -> IV[NUM=?n, SEM=?v]\n",
        "VP[NUM=?n, SEM=<app(?pp, ?vp)>] -> VP[NUM=?n,SEM=?vp] PP[-PRED, SEM=?pp]\n",
        "VP[SEM=<app(?v, ?obj)>] -> TV[SEM=?v] NP[SEM=?obj]\n",
        "VP[SEM=?v] -> IV[SEM=?v]\n",
        "VP[SEM=<app(?v, ?obj)>] -> TV[SEM=?v] NP[SEM=?obj]\n",
        "# Lexical Rules\n",
        "PropN[-LOC,NUM=sg,SEM=<\\P.(DRS([x],[PRO(x)])+P(x))>] -> 'he'\n",
        "PropN[-LOC,NUM=sg,SEM=<\\P.(DRS([x],[PRO(x)])+P(x))>] -> 'she'\n",
        "PropN[-LOC,NUM=sg,SEM=<\\P.(DRS([x],[PRO(x)])+P(x))>] -> 'it'\n",
        "N[NUM=sg,SEM=<\\\\x.DRS([],[kitten(x)])>] -> 'kitten'\n",
        "N[NUM=pl,SEM=<\\\\x.DRS([],[kitten(x)])>] -> 'kittens'\n",
        "N[NUM=sg,SEM=<\\\\x.DRS([],[mouse(x)])>] -> 'mouse'\n",
        "N[NUM=pl,SEM=<\\\\x.DRS([],[mouse(x)])>] -> 'mouses'\n",
        "N[NUM=sg,SEM=<\\\\x.DRS([], [jar(x)])>] -> 'jar'\n",
        "Det[NUM=sg,SEM=<\\P Q.((DRS([x],[])+P(x))+Q(x))>] -> 'a' | 'A'\n",
        "Det[NUM=sg,SEM=<\\P Q.(not ((DRS([x],[])+P(x))+Q(x)))>] -> 'no' | 'No'\n",
        "Det[NUM=sg,SEM=<\\P Q.((DRS([x],[PRO(x)])+P(x))+Q(x))>] -> 'the' | 'The'\n",
        "Adj[SEM=<\\\\x.DRS([],[black(x)])>] -> 'black'\n",
        "Adj[SEM=<\\\\x.DRS([],[white(x)])>] -> 'white'\n",
        "TV[num=pl,SEM=<\\X x.X(\\y.DRS([], [follow(x,y)]))>,tns=past] -> 'followed'\n",
        "TV[NUM=pl,SEM=<\\X x.X(\\y.DRS([], [saw(x,y)]))>,tns=past] -> 'saw'\n",
        "TV[NUM=pl,SEM=<\\X x.X(\\y.DRS([], [follow(x,y)]))>,tns=pres] -> 'follow'\n",
        "TV[SEM=<\\X x.X(\\y.DRS([], [got_out_of(x,y)]))>,tns=past] -> 'got out of'\n",
        "TV[SEM=<\\X x.X(\\y.DRS([], [rushed_after(x,y)]))>,tns=past] -> 'rushed after'\n",
        "TV[SEM=<\\X x.X(\\y.DRS([], [jumped_into(x,y)]))>,tns=past] -> 'jumped into'\n",
        "IV[NUM=pl,SEM=<\\\\x.DRS([], [rush(x)])>,tns=pres] -> 'rush'\n",
        "IV[NUM=pl,SEM=<\\\\x.DRS([], [jump(x)])>,tns=pres] -> 'jump'\n",
        "IV[SEM=<\\\\x.DRS([], [run(x)])>,tns=past] -> 'ran away'\n",
        "IV[NUM=pl,SEM=<\\\\x.DRS([], [run(x)])>,tns=pres] -> 'run'\n",
        "\"\"\")\n",
        "\n",
        "with open('drt.fcfg', 'w') as f:\n",
        "    f.write(str(drt_grammar))\n",
        "\n",
        "from nltk.parse import load_parser\n",
        "from nltk.sem.drt import DrtParser\n",
        "parser = load_parser('drt.fcfg', logic_parser=DrtParser())\n",
        "\n",
        "dom = {'k', 'm', 'j'}\n",
        "v = \"\"\"\n",
        "    kitten => {k}\n",
        "    jar => {j}\n",
        "    mouse => {m}\n",
        "    black => {k}\n",
        "    white => {k}\n",
        "    run => {m}\n",
        "    saw => {(k, m)}\n",
        "    follow => {(k, m)}\n",
        "    rushed_after => {(k, m)}\n",
        "    jumped_into => {(m, j)}\n",
        "    got_out_of => {(k, j)}\n",
        "    PRO => {m, k, j}\n",
        "\"\"\"\n",
        "\n",
        "#Here i decided to add PRO in valuation with meaning that pronounces can be used to word kitten, mouse and jar\n",
        "\n",
        "val = nltk.Valuation.fromstring(v)\n",
        "m = nltk.Model(dom, val)\n",
        "read_dexpr = DrtExpression.fromstring"
      ],
      "metadata": {
        "id": "K8MeOhfwop6v"
      },
      "execution_count": 9,
      "outputs": []
    },
    {
      "cell_type": "code",
      "source": [
        "texts = [['The', 'kitten', 'rushed after', 'the', 'mouse'],\n",
        "         ['The', 'mouse', 'jumped into', 'a', 'jar'],\n",
        "         ['The', 'kitten', 'followed', 'the', 'mouse'],\n",
        "         ['The', 'mouse', 'ran away']]\n",
        "\n",
        "lst = []\n",
        "sm = None\n",
        "for text in texts:\n",
        "\n",
        "    trees = list(parser.parse(text))\n",
        "    l = trees[0]\n",
        "    l = str(l.label()['SEM'])\n",
        "    print(l, end=' ')\n",
        "    print(m.evaluate(str(read_dexpr(l).simplify().fol()), g))\n",
        "    read_dexpr(l).pretty_print()\n",
        "    lst.append(read_dexpr(l).simplify().fol())\n",
        "    if not sm:\n",
        "        sm = read_dexpr(l)\n",
        "    else:\n",
        "        sm += read_dexpr(l)\n",
        "    print()"
      ],
      "metadata": {
        "colab": {
          "base_uri": "https://localhost:8080/"
        },
        "id": "WFF8Uhv1oxnM",
        "outputId": "a9405af1-b1ea-432d-9f8f-c778d584d197"
      },
      "execution_count": 10,
      "outputs": [
        {
          "output_type": "stream",
          "name": "stdout",
          "text": [
            "([x,z18],[PRO(x), kitten(x), PRO(z18), mouse(z18), rushed_after(x,z18)]) True\n",
            " _____________________ \n",
            "| x z18               |\n",
            "|---------------------|\n",
            "| PRO(x)              |\n",
            "| kitten(x)           |\n",
            "| PRO(z18)            |\n",
            "| mouse(z18)          |\n",
            "| rushed_after(x,z18) |\n",
            "|_____________________|\n",
            "\n",
            "([x,z22],[PRO(x), mouse(x), jar(z22), jumped_into(x,z22)]) True\n",
            " ____________________ \n",
            "| x z22              |\n",
            "|--------------------|\n",
            "| PRO(x)             |\n",
            "| mouse(x)           |\n",
            "| jar(z22)           |\n",
            "| jumped_into(x,z22) |\n",
            "|____________________|\n",
            "\n",
            "([x,z26],[PRO(x), kitten(x), PRO(z26), mouse(z26), follow(x,z26)]) True\n",
            " _______________ \n",
            "| x z26         |\n",
            "|---------------|\n",
            "| PRO(x)        |\n",
            "| kitten(x)     |\n",
            "| PRO(z26)      |\n",
            "| mouse(z26)    |\n",
            "| follow(x,z26) |\n",
            "|_______________|\n",
            "\n",
            "([x],[PRO(x), mouse(x), run(x)]) True\n",
            " __________ \n",
            "| x        |\n",
            "|----------|\n",
            "| PRO(x)   |\n",
            "| mouse(x) |\n",
            "| run(x)   |\n",
            "|__________|\n",
            "\n"
          ]
        }
      ]
    },
    {
      "cell_type": "code",
      "source": [
        "sm.simplify().pretty_print()"
      ],
      "metadata": {
        "colab": {
          "base_uri": "https://localhost:8080/"
        },
        "id": "rnnKieV9pznJ",
        "outputId": "83811996-a778-4d65-d96f-c3988f7bdd97"
      },
      "execution_count": 11,
      "outputs": [
        {
          "output_type": "stream",
          "name": "stdout",
          "text": [
            " ___________________________ \n",
            "| x z18 z22 z26 z28 z29 z30 |\n",
            "|---------------------------|\n",
            "| PRO(x)                    |\n",
            "| kitten(x)                 |\n",
            "| PRO(z18)                  |\n",
            "| mouse(z18)                |\n",
            "| rushed_after(x,z18)       |\n",
            "| PRO(z28)                  |\n",
            "| mouse(z28)                |\n",
            "| jar(z22)                  |\n",
            "| jumped_into(z28,z22)      |\n",
            "| PRO(z29)                  |\n",
            "| kitten(z29)               |\n",
            "| PRO(z26)                  |\n",
            "| mouse(z26)                |\n",
            "| follow(z29,z26)           |\n",
            "| PRO(z30)                  |\n",
            "| mouse(z30)                |\n",
            "| run(z30)                  |\n",
            "|___________________________|\n"
          ]
        }
      ]
    },
    {
      "cell_type": "code",
      "source": [
        "sm.simplify().eliminate_equality().pretty_print()"
      ],
      "metadata": {
        "colab": {
          "base_uri": "https://localhost:8080/"
        },
        "id": "2YwaAwjAp2n6",
        "outputId": "473926f6-dae0-4f5c-a7ed-22677a1d1199"
      },
      "execution_count": 12,
      "outputs": [
        {
          "output_type": "stream",
          "name": "stdout",
          "text": [
            " ___________________________ \n",
            "| x z18 z22 z26 z31 z32 z33 |\n",
            "|---------------------------|\n",
            "| PRO(x)                    |\n",
            "| kitten(x)                 |\n",
            "| PRO(z18)                  |\n",
            "| mouse(z18)                |\n",
            "| rushed_after(x,z18)       |\n",
            "| PRO(z31)                  |\n",
            "| mouse(z31)                |\n",
            "| jar(z22)                  |\n",
            "| jumped_into(z31,z22)      |\n",
            "| PRO(z32)                  |\n",
            "| kitten(z32)               |\n",
            "| PRO(z26)                  |\n",
            "| mouse(z26)                |\n",
            "| follow(z32,z26)           |\n",
            "| PRO(z33)                  |\n",
            "| mouse(z33)                |\n",
            "| run(z33)                  |\n",
            "|___________________________|\n"
          ]
        }
      ]
    },
    {
      "cell_type": "code",
      "source": [
        "g = nltk.Assignment(dom)\n",
        "m.evaluate(str(sm.simplify().eliminate_equality().fol()), g)"
      ],
      "metadata": {
        "colab": {
          "base_uri": "https://localhost:8080/"
        },
        "id": "hNi27IjUp50u",
        "outputId": "9308bb0a-8b83-45c0-cc18-4dd866c3ffb2"
      },
      "execution_count": 13,
      "outputs": [
        {
          "output_type": "execute_result",
          "data": {
            "text/plain": [
              "True"
            ]
          },
          "metadata": {},
          "execution_count": 13
        }
      ]
    },
    {
      "cell_type": "code",
      "source": [],
      "metadata": {
        "id": "TmYqkg8jBKLa"
      },
      "execution_count": null,
      "outputs": []
    }
  ]
}